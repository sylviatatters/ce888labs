{
 "cells": [
  {
   "cell_type": "code",
   "execution_count": null,
   "metadata": {},
   "outputs": [],
   "source": [
    "from keras.layers import Input, Dense, Dropout, BatchNormalization\n",
    "from keras.models import Model\n",
    "\n",
    "\n",
    "def simpleAE(X,Y,encodersize, activationH, activationout):\n",
    "    input_layer = Input(shape=(X.shape[1],))\n",
    "    encoder_layer = Dense(encodersize, activation=activationH)(input_layer)\n",
    "    decoder_layer = Dense(X.shape[1],activation = activationout)(encoder_layer)\n",
    "    \n",
    "    AutoEncoder = Model(input_layer, decoder_layer)\n",
    "    Encoder = Model(input_layer, encoder_layer)\n",
    "    \n",
    "    Autoencoder.compile(optimizer'adam', loss = 'mean_squared_error')\n",
    "    \n",
    "    X_train, X_test, Y_train, Y_test = train_test_split(X,Y, test size=0.2, random_state=0)\n",
    "    Autoencoder.fit(x_train, X_train,\n",
    "                   epoches = 50\n",
    "                   batch_size=50\n",
    "                   shuffle=True\n",
    "                   verbose=0\n",
    "                   validaion_data=(X_test, X_test))\n",
    "    return Autoencoder, Encoder\n",
    "\n",
    "encoder_dim = 32  # 32 floats -> compression of factor 24.5, assuming the input is 784 floats\n",
    "\n",
    "# this is our input placeholder\n",
    "input_img = Input(shape=(784,))\n",
    "# \"encoded\" is the encoded representation of the input\n",
    "encoded = Dense(encoding_dim, activation='relu')(input_img)\n",
    "# \"decoded\" is the lossy reconstruction of the input\n",
    "decoded = Dense(784, activation='sigmoid')(encoded)\n",
    "\n",
    "# this model maps an input to its reconstruction\n",
    "autoencoder = Model(input_img, decoded)\n",
    "# this model maps an input to its encoded representation\n",
    "encoder = Model(input_img, encoded)\n",
    "\n",
    "# create a placeholder for an encoded (32-dimensional) input\n",
    "encoded_input = Input(shape=(encoding_dim,))\n",
    "# retrieve the last layer of the autoencoder model\n",
    "decoder_layer = autoencoder.layers[-1]\n",
    "# create the decoder model\n",
    "decoder = Model(encoded_input, decoder_layer(encoded_input))\n",
    "\n",
    "autoencoder.compile(optimizer='adadelta', loss='binary_crossentropy')"
   ]
  }
 ],
 "metadata": {
  "kernelspec": {
   "display_name": "Python 3",
   "language": "python",
   "name": "python3"
  },
  "language_info": {
   "codemirror_mode": {
    "name": "ipython",
    "version": 3
   },
   "file_extension": ".py",
   "mimetype": "text/x-python",
   "name": "python",
   "nbconvert_exporter": "python",
   "pygments_lexer": "ipython3",
   "version": "3.6.5"
  }
 },
 "nbformat": 4,
 "nbformat_minor": 2
}
