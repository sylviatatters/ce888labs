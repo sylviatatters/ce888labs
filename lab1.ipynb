{
 "cells": [
  {
   "cell_type": "markdown",
   "metadata": {},
   "source": [
    "# CE888: Data Science and Decision Making Lab 1\n"
   ]
  },
  {
   "cell_type": "markdown",
   "metadata": {},
   "source": [
    "Over today's practice you'll learn:\n",
    "* to use JuPyter notebooks to quickly prototype code and show results\n",
    "* the numerical Python library\n",
    "\n",
    "This lab is divided in two parts. In each of them, you will have to fill in the gaps following the instructions given.\n",
    "The prompts for you to write code will look like this:"
   ]
  },
  {
   "cell_type": "code",
   "execution_count": null,
   "metadata": {},
   "outputs": [],
   "source": [
    "#<------------INSERT CODE HERE------------>"
   ]
  },
  {
   "cell_type": "markdown",
   "metadata": {},
   "source": [
    "This might involve more than one line of code from you!\n",
    "\n",
    "Do **not** delete code from the notebook.\n",
    "\n",
    "Let's start!"
   ]
  },
  {
   "cell_type": "markdown",
   "metadata": {},
   "source": [
    "## Part 1\n",
    "\n",
    "In the first part of the lab we're going to check your Python skills and, in particular, we will ask you to create some functions to operate on vectors and matrices.\n",
    "\n"
   ]
  },
  {
   "cell_type": "markdown",
   "metadata": {},
   "source": [
    "### Operations with vectors"
   ]
  },
  {
   "cell_type": "code",
   "execution_count": 1,
   "metadata": {},
   "outputs": [
    {
     "name": "stdout",
     "output_type": "stream",
     "text": [
      "[1, 2, 4, 78, 93]\n",
      "The vector has 5 elements\n"
     ]
    }
   ],
   "source": [
    "# Let's create a vector. We can do this as a Python built-in type: the list\n",
    "vector1 = [1, 2, 4, 78, 93] # we declare the vector as a list of elements\n",
    "\n",
    "print(vector1)\n",
    "print(\"The vector has %d elements\" % len(vector1))"
   ]
  },
  {
   "cell_type": "code",
   "execution_count": 4,
   "metadata": {},
   "outputs": [],
   "source": [
    "# Let's add a number to every element of the vector.\n",
    "## Exercise: create a function that, given a vector and a number,\n",
    "## returns the addition of that number to each element of the vector\n",
    "def vector_plus_num(vector, number):\n",
    "    \n",
    "    #<------------INSERT CODE HERE------------>\n",
    "    vector2 = [i + number for i in vector]\n",
    "    \n",
    "    return vector2"
   ]
  },
  {
   "cell_type": "code",
   "execution_count": 6,
   "metadata": {},
   "outputs": [
    {
     "name": "stdout",
     "output_type": "stream",
     "text": [
      "[6, 7, 9, 83, 98]\n",
      "[-32, -31, -29, 45, 60]\n"
     ]
    }
   ],
   "source": [
    "# Let's test your function:\n",
    "print(vector_plus_num(vector1, 5))\n",
    "print(vector_plus_num(vector1, -33))"
   ]
  },
  {
   "cell_type": "markdown",
   "metadata": {},
   "source": [
    "What if we now wanted to mutiply a number and a vector? **Do not do it**, just think about what you'd need!"
   ]
  },
  {
   "cell_type": "markdown",
   "metadata": {},
   "source": [
    "And what if we want to calculate the mean value of your vector?"
   ]
  },
  {
   "cell_type": "code",
   "execution_count": 12,
   "metadata": {},
   "outputs": [],
   "source": [
    "## Exercise: create a function that, given a vector,\n",
    "## returns the mean value of its elements.\n",
    "def vector_mean(vector):\n",
    "    \n",
    "    #<------------INSERT CODE HERE------------>\n",
    "    mean = 0\n",
    "    for i in range(0,len(vector)):\n",
    "        mean = mean + vector[i]\n",
    "        mu = mean/len(vector)\n",
    "    \n",
    "    return mu"
   ]
  },
  {
   "cell_type": "code",
   "execution_count": 14,
   "metadata": {},
   "outputs": [
    {
     "name": "stdout",
     "output_type": "stream",
     "text": [
      "35.6\n"
     ]
    }
   ],
   "source": [
    "# Now test your function:\n",
    "\n",
    "#<------------INSERT CODE HERE------------>\n",
    "print(vector_mean(vector1))"
   ]
  },
  {
   "cell_type": "markdown",
   "metadata": {},
   "source": [
    "We will now work on operations between pairs of vectors."
   ]
  },
  {
   "cell_type": "code",
   "execution_count": 18,
   "metadata": {},
   "outputs": [
    {
     "name": "stdout",
     "output_type": "stream",
     "text": [
      "[1, 2, 3, 4, 5]\n"
     ]
    }
   ],
   "source": [
    "# Now let's create a new vector, called vector2, of the same length as vector1.\n",
    "# We will then look at operations with multiple vectors, \n",
    "# such as adding and subtracting them, and vector multiplications.\n",
    "#<------------INSERT CODE HERE------------>\n",
    "vector2 = [1,2,3,4,5]\n",
    "\n",
    "assert len(vector1) == len(vector2), \"The vectors are not of the same length\"\n",
    "print(vector2)"
   ]
  },
  {
   "cell_type": "code",
   "execution_count": 29,
   "metadata": {},
   "outputs": [],
   "source": [
    "# Create a function that returns new vector of the same length as vector1 and vector2, \n",
    "# for which each element is the sum of the corresponding elements from vector1 and vector2.\n",
    "\n",
    "# Feel free to create a function to do this!\n",
    "\n",
    "def add_two_vectors(vec1, vec2):\n",
    "    sumVec =[0,0,0,0,0]\n",
    "    #<------------INSERT CODE HERE------------>\n",
    "    for i in range (0,len(vec1)):\n",
    "        sumVec[i] = vec1[i] + vec2[i] \n",
    "    return sumVec"
   ]
  },
  {
   "cell_type": "code",
   "execution_count": 30,
   "metadata": {},
   "outputs": [
    {
     "name": "stdout",
     "output_type": "stream",
     "text": [
      "[2, 4, 7, 82, 98]\n"
     ]
    },
    {
     "ename": "IndexError",
     "evalue": "list index out of range",
     "output_type": "error",
     "traceback": [
      "\u001b[1;31m---------------------------------------------------------------------------\u001b[0m",
      "\u001b[1;31mIndexError\u001b[0m                                Traceback (most recent call last)",
      "\u001b[1;32m<ipython-input-30-f6e743abd3ee>\u001b[0m in \u001b[0;36m<module>\u001b[1;34m()\u001b[0m\n\u001b[0;32m      1\u001b[0m \u001b[1;31m# Let's test your function:\u001b[0m\u001b[1;33m\u001b[0m\u001b[1;33m\u001b[0m\u001b[0m\n\u001b[0;32m      2\u001b[0m \u001b[0mprint\u001b[0m\u001b[1;33m(\u001b[0m\u001b[0madd_two_vectors\u001b[0m\u001b[1;33m(\u001b[0m\u001b[0mvector1\u001b[0m\u001b[1;33m,\u001b[0m \u001b[0mvector2\u001b[0m\u001b[1;33m)\u001b[0m\u001b[1;33m)\u001b[0m\u001b[1;33m\u001b[0m\u001b[0m\n\u001b[1;32m----> 3\u001b[1;33m \u001b[0mprint\u001b[0m\u001b[1;33m(\u001b[0m\u001b[0madd_two_vectors\u001b[0m\u001b[1;33m(\u001b[0m\u001b[0mvector1\u001b[0m\u001b[1;33m,\u001b[0m \u001b[1;33m[\u001b[0m\u001b[1;36m1\u001b[0m\u001b[1;33m,\u001b[0m \u001b[1;36m2\u001b[0m\u001b[1;33m,\u001b[0m \u001b[1;36m3\u001b[0m\u001b[1;33m]\u001b[0m\u001b[1;33m)\u001b[0m\u001b[1;33m)\u001b[0m\u001b[1;33m\u001b[0m\u001b[0m\n\u001b[0m\u001b[0;32m      4\u001b[0m \u001b[1;31m# If the second print resulted in an error, don't worry about it for now!\u001b[0m\u001b[1;33m\u001b[0m\u001b[1;33m\u001b[0m\u001b[0m\n",
      "\u001b[1;32m<ipython-input-29-2f3a254a4fe5>\u001b[0m in \u001b[0;36madd_two_vectors\u001b[1;34m(vec1, vec2)\u001b[0m\n\u001b[0;32m      8\u001b[0m     \u001b[1;31m#<------------INSERT CODE HERE------------>\u001b[0m\u001b[1;33m\u001b[0m\u001b[1;33m\u001b[0m\u001b[0m\n\u001b[0;32m      9\u001b[0m     \u001b[1;32mfor\u001b[0m \u001b[0mi\u001b[0m \u001b[1;32min\u001b[0m \u001b[0mrange\u001b[0m \u001b[1;33m(\u001b[0m\u001b[1;36m0\u001b[0m\u001b[1;33m,\u001b[0m\u001b[0mlen\u001b[0m\u001b[1;33m(\u001b[0m\u001b[0mvec1\u001b[0m\u001b[1;33m)\u001b[0m\u001b[1;33m)\u001b[0m\u001b[1;33m:\u001b[0m\u001b[1;33m\u001b[0m\u001b[0m\n\u001b[1;32m---> 10\u001b[1;33m         \u001b[0msumVec\u001b[0m\u001b[1;33m[\u001b[0m\u001b[0mi\u001b[0m\u001b[1;33m]\u001b[0m \u001b[1;33m=\u001b[0m \u001b[0mvec1\u001b[0m\u001b[1;33m[\u001b[0m\u001b[0mi\u001b[0m\u001b[1;33m]\u001b[0m \u001b[1;33m+\u001b[0m \u001b[0mvec2\u001b[0m\u001b[1;33m[\u001b[0m\u001b[0mi\u001b[0m\u001b[1;33m]\u001b[0m\u001b[1;33m\u001b[0m\u001b[0m\n\u001b[0m\u001b[0;32m     11\u001b[0m     \u001b[1;32mreturn\u001b[0m \u001b[0msumVec\u001b[0m\u001b[1;33m\u001b[0m\u001b[0m\n",
      "\u001b[1;31mIndexError\u001b[0m: list index out of range"
     ]
    }
   ],
   "source": [
    "# Let's test your function:\n",
    "print(add_two_vectors(vector1, vector2))\n",
    "print(add_two_vectors(vector1, [1, 2, 3]))\n",
    "# If the second print resulted in an error, don't worry about it for now!"
   ]
  },
  {
   "cell_type": "markdown",
   "metadata": {},
   "source": [
    "How about the multiplication of vectors?\n",
    "There are two types of vector multiplications:\n",
    "* The dot product (or scalar product) takes two vectors and returns a scalar.\n",
    "* The cross product (or vector product) takes two vectors and returns another vector."
   ]
  },
  {
   "cell_type": "markdown",
   "metadata": {},
   "source": [
    "Now let's create a function that returns the scalar product of two vectors.\n",
    "\n",
    "This can be done by multiplying pairs of elements and adding the result:\n",
    "\n",
    "A = [A1, A2, A3, ..., An]\n",
    "\n",
    "B = [B1, B2, B3, ..., Bn]\n",
    "\n",
    "A · B = A1·B1 + A2·B2 + ... An·Bn"
   ]
  },
  {
   "cell_type": "code",
   "execution_count": 36,
   "metadata": {},
   "outputs": [],
   "source": [
    "import numpy as np\n",
    "def scalar_product(v1, v2):\n",
    "    #<------------INSERT CODE HERE------------>\n",
    "    x = np.array(v1)\n",
    "    y = np.array(v2)\n",
    "    \n",
    "    scalarProduct = np.dot(x,y)\n",
    "    \n",
    "    return scalarProduct"
   ]
  },
  {
   "cell_type": "code",
   "execution_count": 37,
   "metadata": {},
   "outputs": [
    {
     "name": "stdout",
     "output_type": "stream",
     "text": [
      "794\n"
     ]
    }
   ],
   "source": [
    "# Test your function\n",
    "\n",
    "#<------------INSERT CODE HERE------------>\n",
    "print(scalar_product(vector1,vector2))"
   ]
  },
  {
   "cell_type": "markdown",
   "metadata": {},
   "source": [
    "### Operations with matrices\n",
    "\n",
    "Again, there are multiple things we can do with matrices. For example, adding/subtracting/multiplying a number to each element of a matrix and matrix multiplication.\n",
    "\n",
    "We're going to attempt the last one only."
   ]
  },
  {
   "cell_type": "code",
   "execution_count": 41,
   "metadata": {},
   "outputs": [],
   "source": [
    "# Create a function that receives two matrices as input and returns the matrix multiplication of the two\n",
    "# If you don't know how to multiply two matrices, check:\n",
    "# https://en.wikipedia.org/wiki/Matrix_multiplication#Definition\n",
    "\n",
    "def matrix_multiplication(matrix1, matrix2):\n",
    "    \n",
    "    #<------------INSERT CODE HERE------------>\n",
    "    multipl_result = np.matmul(matrix1,matrix2)\n",
    "    return multipl_result"
   ]
  },
  {
   "cell_type": "code",
   "execution_count": 42,
   "metadata": {},
   "outputs": [],
   "source": [
    "# And let's test your function:\n",
    "# NOTE: some of the tests below will give errors. Don't worry about them!\n",
    "matrixA = [[1, 2, 3], [1, 2, 3]]\n",
    "matrixB = [[5, 6, 7], [5, 6, 7], [5, 6, 7]]\n",
    "matrixC = [[8, 9], [8, 9], [8, 9], [8, 9]]\n",
    "matrixD = [[10, 11], [10, 11], [10, 11]]"
   ]
  },
  {
   "cell_type": "code",
   "execution_count": 43,
   "metadata": {},
   "outputs": [
    {
     "name": "stdout",
     "output_type": "stream",
     "text": [
      "[[30 36 42]\n",
      " [30 36 42]]\n"
     ]
    }
   ],
   "source": [
    "print(matrix_multiplication(matrixA, matrixB))"
   ]
  },
  {
   "cell_type": "code",
   "execution_count": 44,
   "metadata": {},
   "outputs": [
    {
     "ename": "ValueError",
     "evalue": "shapes (2,3) and (4,2) not aligned: 3 (dim 1) != 4 (dim 0)",
     "output_type": "error",
     "traceback": [
      "\u001b[1;31m---------------------------------------------------------------------------\u001b[0m",
      "\u001b[1;31mValueError\u001b[0m                                Traceback (most recent call last)",
      "\u001b[1;32m<ipython-input-44-d57698ca62b4>\u001b[0m in \u001b[0;36m<module>\u001b[1;34m()\u001b[0m\n\u001b[1;32m----> 1\u001b[1;33m \u001b[0mprint\u001b[0m\u001b[1;33m(\u001b[0m\u001b[0mmatrix_multiplication\u001b[0m\u001b[1;33m(\u001b[0m\u001b[0mmatrixA\u001b[0m\u001b[1;33m,\u001b[0m \u001b[0mmatrixC\u001b[0m\u001b[1;33m)\u001b[0m\u001b[1;33m)\u001b[0m\u001b[1;33m\u001b[0m\u001b[0m\n\u001b[0m",
      "\u001b[1;32m<ipython-input-41-885524116aaf>\u001b[0m in \u001b[0;36mmatrix_multiplication\u001b[1;34m(matrix1, matrix2)\u001b[0m\n\u001b[0;32m      6\u001b[0m \u001b[1;33m\u001b[0m\u001b[0m\n\u001b[0;32m      7\u001b[0m     \u001b[1;31m#<------------INSERT CODE HERE------------>\u001b[0m\u001b[1;33m\u001b[0m\u001b[1;33m\u001b[0m\u001b[0m\n\u001b[1;32m----> 8\u001b[1;33m     \u001b[0mmultipl_result\u001b[0m \u001b[1;33m=\u001b[0m \u001b[0mnp\u001b[0m\u001b[1;33m.\u001b[0m\u001b[0mmatmul\u001b[0m\u001b[1;33m(\u001b[0m\u001b[0mmatrix1\u001b[0m\u001b[1;33m,\u001b[0m\u001b[0mmatrix2\u001b[0m\u001b[1;33m)\u001b[0m\u001b[1;33m\u001b[0m\u001b[0m\n\u001b[0m\u001b[0;32m      9\u001b[0m     \u001b[1;32mreturn\u001b[0m \u001b[0mmultipl_result\u001b[0m\u001b[1;33m\u001b[0m\u001b[0m\n",
      "\u001b[1;31mValueError\u001b[0m: shapes (2,3) and (4,2) not aligned: 3 (dim 1) != 4 (dim 0)"
     ]
    }
   ],
   "source": [
    "print(matrix_multiplication(matrixA, matrixC))"
   ]
  },
  {
   "cell_type": "code",
   "execution_count": 45,
   "metadata": {},
   "outputs": [
    {
     "name": "stdout",
     "output_type": "stream",
     "text": [
      "[[21 42 63]\n",
      " [21 42 63]\n",
      " [21 42 63]]\n"
     ]
    }
   ],
   "source": [
    "print(matrix_multiplication(matrixD, matrixA))"
   ]
  },
  {
   "cell_type": "markdown",
   "metadata": {},
   "source": [
    "Hopefully this has convinced you that operating with vectors and matrices like this is not the best way.\n",
    "Now we will turn to the second part of this lab, in which you will be introduced to the numerical Python library, *numpy*."
   ]
  },
  {
   "cell_type": "markdown",
   "metadata": {},
   "source": [
    "## Part 2: Numpy\n"
   ]
  },
  {
   "cell_type": "markdown",
   "metadata": {},
   "source": [
    "Numpy has a built-in type called the *ndarray*. "
   ]
  },
  {
   "cell_type": "code",
   "execution_count": 46,
   "metadata": {},
   "outputs": [],
   "source": [
    "import numpy as np # Importing convention for Numpy"
   ]
  },
  {
   "cell_type": "markdown",
   "metadata": {},
   "source": [
    "#### Creating and manipulating arrays"
   ]
  },
  {
   "cell_type": "code",
   "execution_count": 53,
   "metadata": {},
   "outputs": [
    {
     "name": "stdout",
     "output_type": "stream",
     "text": [
      "[1. 2. 3.]\n",
      "float32\n",
      "[1.+2.j 3.-4.j]\n",
      "complex64\n",
      "[False  True  True]\n",
      "bool\n",
      "Matrix A\n",
      "[[1 2 3]\n",
      " [1 2 3]]\n",
      "int32\n",
      "(2, 3)\n",
      "Vector2\n",
      "[1 2 3 4 5]\n",
      "int32\n",
      "(5,)\n"
     ]
    }
   ],
   "source": [
    "# Create arrays with a specified data type\n",
    "\n",
    "arr = np.array([1, 2, 3], dtype=np.float32)\n",
    "print(arr)\n",
    "print(arr.dtype)\n",
    "\n",
    "arr = np.array([1+2j, 3-4j], dtype=np.complex64)  # an array of complex numbers\n",
    "print(arr)\n",
    "print(arr.dtype)\n",
    "\n",
    "arr = np.array([0, 1, 1], dtype=np.bool)  # an array of True/False values\n",
    "print(arr)\n",
    "print(arr.dtype)\n",
    "\n",
    "# We can also create arrays from the vectors and matrices we had before.\n",
    "arr = np.array(matrixA)\n",
    "print(\"Matrix A\")\n",
    "print(arr)\n",
    "print(arr.dtype)\n",
    "print(arr.shape)\n",
    "\n",
    "arr = np.array(vector2)\n",
    "print(\"Vector2\")\n",
    "print(arr)\n",
    "print(arr.dtype)\n",
    "print(arr.shape)\n"
   ]
  },
  {
   "cell_type": "code",
   "execution_count": 48,
   "metadata": {},
   "outputs": [
    {
     "name": "stdout",
     "output_type": "stream",
     "text": [
      "[0 1 2 3 4 5 6 7 8 9]\n",
      "shape: (10,)\n",
      "dtype: int32\n",
      "dim: 1\n",
      "itemsize: 4\n"
     ]
    }
   ],
   "source": [
    "arr_range2 = np.arange(10)\n",
    "print(arr_range2)\n",
    "\n",
    "# Retrieving information on the array\n",
    "print(\"shape:\", arr_range2.shape)\n",
    "print(\"dtype:\", arr_range2.dtype)\n",
    "print(\"dim:\", arr_range2.ndim)\n",
    "print(\"itemsize:\", arr_range2.itemsize)"
   ]
  },
  {
   "cell_type": "code",
   "execution_count": 49,
   "metadata": {},
   "outputs": [
    {
     "name": "stdout",
     "output_type": "stream",
     "text": [
      "[ 0  5 10 15 20 25 30 35 40 45 50 55 60 65 70 75 80 85 90 95]\n",
      "[ 0.          0.52631579  1.05263158  1.57894737  2.10526316  2.63157895\n",
      "  3.15789474  3.68421053  4.21052632  4.73684211  5.26315789  5.78947368\n",
      "  6.31578947  6.84210526  7.36842105  7.89473684  8.42105263  8.94736842\n",
      "  9.47368421 10.        ]\n"
     ]
    }
   ],
   "source": [
    "# We can use the np.arange function to create a range of values:\n",
    "arr = np.arange(0, 100, 5) #np.arange(start, stop, pace)\n",
    "print(arr)\n",
    "# Note: is the last value (100) included?\n",
    "\n",
    "# Similarly, we can use np.linspace:\n",
    "# np.linspace(start, stop, num_of_elements, endpoint=True) \n",
    "arr = np.linspace(0, 10, 20)\n",
    "print(arr)\n",
    "# Note: is the last value (10) included now?"
   ]
  },
  {
   "cell_type": "code",
   "execution_count": 50,
   "metadata": {},
   "outputs": [
    {
     "name": "stdout",
     "output_type": "stream",
     "text": [
      "[[1.5 2.  3. ]\n",
      " [4.  5.  6. ]]\n",
      "(2, 3)\n"
     ]
    }
   ],
   "source": [
    "arr_2d = np.array([(1.5, 2, 3), (4, 5, 6)]) # creating an array from a list of tuples\n",
    "print(arr_2d)\n",
    "print(arr_2d.shape)"
   ]
  },
  {
   "cell_type": "code",
   "execution_count": 51,
   "metadata": {},
   "outputs": [
    {
     "name": "stdout",
     "output_type": "stream",
     "text": [
      "arr_2d[0,0] : 1.5\n",
      "arr_2d[0,:] :  [1.5 2.  3. ]\n",
      "arr_2d[:,0] : [1.5 4. ]\n",
      "[3. 4. 5. 6.]\n"
     ]
    }
   ],
   "source": [
    "# Slicing (i.e., accessing specific elements of the array)\n",
    "\n",
    "print(\"arr_2d[0,0] :\", arr_2d[0, 0])\n",
    "print(\"arr_2d[0,:] : \", arr_2d[0, :])\n",
    "print(\"arr_2d[:,0] :\", arr_2d[:, 0])\n",
    "\n",
    "print(arr_2d[arr_2d > 2])"
   ]
  },
  {
   "cell_type": "code",
   "execution_count": 55,
   "metadata": {},
   "outputs": [
    {
     "name": "stdout",
     "output_type": "stream",
     "text": [
      "[[0. 0. 0. 0. 0. 0. 0. 0. 0. 0.]\n",
      " [0. 0. 0. 0. 0. 0. 0. 0. 0. 0.]\n",
      " [0. 0. 0. 0. 0. 0. 0. 0. 0. 0.]\n",
      " [0. 0. 0. 0. 0. 0. 0. 0. 0. 0.]\n",
      " [0. 0. 0. 0. 0. 0. 0. 0. 0. 0.]\n",
      " [0. 0. 0. 0. 0. 0. 0. 0. 0. 0.]\n",
      " [0. 0. 0. 0. 0. 0. 0. 0. 0. 0.]\n",
      " [0. 0. 0. 0. 0. 0. 0. 0. 0. 0.]\n",
      " [0. 0. 0. 0. 0. 0. 0. 0. 0. 0.]\n",
      " [0. 0. 0. 0. 0. 0. 0. 0. 0. 0.]]\n",
      "shape (10, 10)\n",
      "[[1. 1. 1. 1.]\n",
      " [1. 1. 1. 1.]\n",
      " [1. 1. 1. 1.]\n",
      " [1. 1. 1. 1.]]\n",
      "shape (4, 4)\n",
      "[[1. 1. 1. 1. 1. 1. 1. 1.]\n",
      " [1. 1. 1. 1. 1. 1. 1. 1.]]\n",
      "shape (4, 4)\n"
     ]
    }
   ],
   "source": [
    "# Other types of arrays\n",
    "\n",
    "zeros = np.zeros((10, 10))\n",
    "print(zeros)\n",
    "# print the shape of zeros\n",
    "#<------------INSERT CODE HERE------------>\n",
    "print(\"shape\",zeros.shape)\n",
    "\n",
    "ones = np.ones((4, 4))\n",
    "print(ones)\n",
    "# print the shape of ones\n",
    "#<------------INSERT CODE HERE------------>\n",
    "print(\"shape\",ones.shape)\n",
    "\n",
    "print(ones.reshape(2, 8))\n",
    "# print the shape of ones\n",
    "#<------------INSERT CODE HERE------------>\n",
    "print(\"shape\",ones.shape)"
   ]
  },
  {
   "cell_type": "code",
   "execution_count": 56,
   "metadata": {},
   "outputs": [
    {
     "name": "stdout",
     "output_type": "stream",
     "text": [
      "shape (1, 1000)\n",
      "[[ 0.63261342  1.01222903  0.24150125  0.00580069  0.89743553  0.24364973\n",
      "  -0.65281403  0.42345376 -0.03963035  1.06871135]]\n"
     ]
    }
   ],
   "source": [
    "# We can also use numpy to generate random values.\n",
    "randn = np.random.randn(1, 1000)\n",
    "# print the shape of randn\n",
    "#<------------INSERT CODE HERE------------>\n",
    "print(\"shape\",randn.shape)\n",
    "\n",
    "# print the first 10 elements of randn. What happens if you re-run this code?\n",
    "#<------------INSERT CODE HERE------------>\n",
    "print(randn[:,0:10])"
   ]
  },
  {
   "cell_type": "code",
   "execution_count": 65,
   "metadata": {},
   "outputs": [
    {
     "name": "stdout",
     "output_type": "stream",
     "text": [
      "[[ 0.66698806  0.02581308]\n",
      " [-0.77761941  0.94863382]\n",
      " [ 0.70167179 -1.05108156]]\n"
     ]
    }
   ],
   "source": [
    "np.random.seed(23)\n",
    "\n",
    "# Generate a new array of random numbers, this time of shape (3, 2) and print it.\n",
    "# What happens when you re-run the code now?\n",
    "# TIP: you might want to save the result to compare the previous and the new one\n",
    "\n",
    "#<------------INSERT CODE HERE------------>\n",
    "random1 = np.random.randn(3,2)\n",
    "print(random1)\n",
    "\n",
    "\n",
    "# Think: what does np.seed() do? (Use Google if you don't know!)"
   ]
  },
  {
   "cell_type": "markdown",
   "metadata": {},
   "source": [
    "#### Combine arrays"
   ]
  },
  {
   "cell_type": "code",
   "execution_count": 69,
   "metadata": {},
   "outputs": [
    {
     "name": "stdout",
     "output_type": "stream",
     "text": [
      "shape (2, 4)\n",
      "shape (2, 4)\n",
      "along row [[1 2 3 4]\n",
      " [1 2 3 4]\n",
      " [5 6 7 8]\n",
      " [5 6 7 8]]\n",
      "along column [[1 2 3 4 5 6 7 8]\n",
      " [1 2 3 4 5 6 7 8]]\n",
      "vertically [[1 2 3 4]\n",
      " [1 2 3 4]\n",
      " [5 6 7 8]\n",
      " [5 6 7 8]]\n",
      "horizontally [[1 2 3 4 5 6 7 8]\n",
      " [1 2 3 4 5 6 7 8]]\n"
     ]
    }
   ],
   "source": [
    "arr1 = np.array([[1, 2, 3, 4], [1, 2, 3, 4]])\n",
    "arr2 = np.array([[5, 6, 7, 8], [5, 6, 7 , 8]])\n",
    "\n",
    "# Print the shapes of arr1 and arr2 and cat after each of the types of concatenations.\n",
    "# Concatenating arrays is a very common operation. Make sure you understand it!\n",
    "# TIP: it might help you to print the actual cat array after each type of concatenation too\n",
    "\n",
    "#<------------INSERT CODE HERE------------>\n",
    "print(\"shape\",arr1.shape)\n",
    "print(\"shape\",arr2.shape)\n",
    "\n",
    "\n",
    "# concatenate along the row\n",
    "cat = np.concatenate((arr1, arr2), axis=0)\n",
    "#<------------INSERT CODE HERE------------>\n",
    "print(\"along row\",cat)\n",
    "\n",
    "\n",
    "# concatenate along the column\n",
    "cat = np.concatenate((arr1, arr2), axis=1)    \n",
    "#<------------INSERT CODE HERE------------>\n",
    "print(\"along column\",cat)\n",
    "\n",
    "# stack arrays vertically\n",
    "cat = np.vstack((arr1, arr2))\n",
    "#<------------INSERT CODE HERE------------>\n",
    "print(\"vertically\",cat)\n",
    "# stack arrays horizontally\n",
    "cat = np.hstack((arr1, arr2))\n",
    "#<------------INSERT CODE HERE------------>\n",
    "print(\"horizontally\",cat)"
   ]
  },
  {
   "cell_type": "markdown",
   "metadata": {},
   "source": [
    "#### Operations with arrays"
   ]
  },
  {
   "cell_type": "code",
   "execution_count": 70,
   "metadata": {},
   "outputs": [],
   "source": [
    "#Let's create a couple of vectors using numpy\n",
    "v1 = np.array([20, 30, 40, 50])\n",
    "v2 = np.arange(4)\n",
    "\n",
    "#And a couple of matrices\n",
    "mat1 = np.array([[1, 2, 3, 4], [1, 2, 3, 4]])\n",
    "mat2 = mat1.T # this is the transpose of mat1"
   ]
  },
  {
   "cell_type": "code",
   "execution_count": 72,
   "metadata": {},
   "outputs": [
    {
     "name": "stdout",
     "output_type": "stream",
     "text": [
      "[25 35 45 55]\n",
      "[[2368 2369 2370 2371]\n",
      " [2368 2369 2370 2371]]\n"
     ]
    }
   ],
   "source": [
    "# Add a number to an array of 1-D (i.e., a vector)\n",
    "print(5 + v1)\n",
    "# Compare the line above to your function vector_plus_num(vector, number) from Part 1.\n",
    "\n",
    "# Does your function work with matrices?\n",
    "\n",
    "# How do you add a number to a np.array object? Try adding 2367 to mat1\n",
    "\n",
    "#<------------INSERT CODE HERE------------>\n",
    "print(mat1 + 2367)\n",
    "\n"
   ]
  },
  {
   "cell_type": "code",
   "execution_count": 77,
   "metadata": {},
   "outputs": [
    {
     "name": "stdout",
     "output_type": "stream",
     "text": [
      "Adding two vectors [20 31 42 53]\n",
      "Subtracting two vectors [20 29 38 47]\n",
      "[0.         1.         1.41421356 1.73205081]\n",
      "[2.99573227 3.40119738 3.68887945 3.91202301]\n",
      "[1.30103    1.47712125 1.60205999 1.69897   ]\n"
     ]
    }
   ],
   "source": [
    "# Let's try to add and subtract vectors now:\n",
    "print(\"Adding two vectors\", v1 + v2)\n",
    "print(\"Subtracting two vectors\", v1 - v2)\n",
    "\n",
    "# What happens if you try to add two vectors of different length?\n",
    "\n",
    "\n",
    "# Square root of each elemnt of v2:\n",
    "print(np.sqrt(v2))\n",
    "\n",
    "# Calculate the logarithm of each element of v1\n",
    "# TIP: check if you can do this using some numpy function!\n",
    "\n",
    "#<------------INSERT CODE HERE------------>\n",
    "print(np.log(v1))\n",
    "print(np.log10(v1))\n"
   ]
  },
  {
   "cell_type": "markdown",
   "metadata": {},
   "source": [
    "### Multiplication of vectors\n",
    "\n",
    "There are a number of functions in numpy that you can use to multiply vectors and matrices.\n",
    "\n",
    "Scalar product of two vectors: np.dot(vector1, vector2)\n",
    "\n",
    "Vector product of two vectors: np.cross(x, y)"
   ]
  },
  {
   "cell_type": "code",
   "execution_count": 80,
   "metadata": {},
   "outputs": [
    {
     "name": "stdout",
     "output_type": "stream",
     "text": [
      "260\n",
      "-20.743096531601623\n"
     ]
    }
   ],
   "source": [
    "# Calculate the scalar product of v1 and v2 using your function from part 1 and the numpy function.\n",
    "#<------------INSERT CODE HERE------------>\n",
    "print(np.dot(v1,v2))\n",
    "\n",
    "\n",
    "# Check if the result is the same using your function from Part 1\n",
    "\n",
    "#<------------INSERT CODE HERE------------>\n",
    "\n",
    "\n",
    "v3 = np.random.randn(4000)\n",
    "v4 = np.random.randn(4000)\n",
    "# Calculate the scalar product of v3 and v4 using your function from part 1 and the numpy function.\n",
    "# Compare the time it takes to execute each of them.\n",
    "# HINT: https://stackoverflow.com/questions/7370801/measure-time-elapsed-in-python\n",
    "print(np.dot(v3,v4))\n",
    "\n",
    "#<------------INSERT CODE HERE------------>\n",
    "\n"
   ]
  },
  {
   "cell_type": "code",
   "execution_count": 81,
   "metadata": {},
   "outputs": [
    {
     "ename": "ValueError",
     "evalue": "incompatible dimensions for cross product\n(dimension must be 2 or 3)",
     "output_type": "error",
     "traceback": [
      "\u001b[1;31m---------------------------------------------------------------------------\u001b[0m",
      "\u001b[1;31mValueError\u001b[0m                                Traceback (most recent call last)",
      "\u001b[1;32m<ipython-input-81-39349e8104e4>\u001b[0m in \u001b[0;36m<module>\u001b[1;34m()\u001b[0m\n\u001b[0;32m      2\u001b[0m \u001b[1;33m\u001b[0m\u001b[0m\n\u001b[0;32m      3\u001b[0m \u001b[1;31m#<------------INSERT CODE HERE------------>\u001b[0m\u001b[1;33m\u001b[0m\u001b[1;33m\u001b[0m\u001b[0m\n\u001b[1;32m----> 4\u001b[1;33m \u001b[0mprint\u001b[0m\u001b[1;33m(\u001b[0m\u001b[0mnp\u001b[0m\u001b[1;33m.\u001b[0m\u001b[0mcross\u001b[0m\u001b[1;33m(\u001b[0m\u001b[0mv1\u001b[0m\u001b[1;33m,\u001b[0m\u001b[0mv2\u001b[0m\u001b[1;33m)\u001b[0m\u001b[1;33m)\u001b[0m\u001b[1;33m\u001b[0m\u001b[0m\n\u001b[0m",
      "\u001b[1;32mc:\\python36\\lib\\site-packages\\numpy\\core\\numeric.py\u001b[0m in \u001b[0;36mcross\u001b[1;34m(a, b, axisa, axisb, axisc, axis)\u001b[0m\n\u001b[0;32m   1716\u001b[0m            \"(dimension must be 2 or 3)\")\n\u001b[0;32m   1717\u001b[0m     \u001b[1;32mif\u001b[0m \u001b[0ma\u001b[0m\u001b[1;33m.\u001b[0m\u001b[0mshape\u001b[0m\u001b[1;33m[\u001b[0m\u001b[1;33m-\u001b[0m\u001b[1;36m1\u001b[0m\u001b[1;33m]\u001b[0m \u001b[1;32mnot\u001b[0m \u001b[1;32min\u001b[0m \u001b[1;33m(\u001b[0m\u001b[1;36m2\u001b[0m\u001b[1;33m,\u001b[0m \u001b[1;36m3\u001b[0m\u001b[1;33m)\u001b[0m \u001b[1;32mor\u001b[0m \u001b[0mb\u001b[0m\u001b[1;33m.\u001b[0m\u001b[0mshape\u001b[0m\u001b[1;33m[\u001b[0m\u001b[1;33m-\u001b[0m\u001b[1;36m1\u001b[0m\u001b[1;33m]\u001b[0m \u001b[1;32mnot\u001b[0m \u001b[1;32min\u001b[0m \u001b[1;33m(\u001b[0m\u001b[1;36m2\u001b[0m\u001b[1;33m,\u001b[0m \u001b[1;36m3\u001b[0m\u001b[1;33m)\u001b[0m\u001b[1;33m:\u001b[0m\u001b[1;33m\u001b[0m\u001b[0m\n\u001b[1;32m-> 1718\u001b[1;33m         \u001b[1;32mraise\u001b[0m \u001b[0mValueError\u001b[0m\u001b[1;33m(\u001b[0m\u001b[0mmsg\u001b[0m\u001b[1;33m)\u001b[0m\u001b[1;33m\u001b[0m\u001b[0m\n\u001b[0m\u001b[0;32m   1719\u001b[0m \u001b[1;33m\u001b[0m\u001b[0m\n\u001b[0;32m   1720\u001b[0m     \u001b[1;31m# Create the output array\u001b[0m\u001b[1;33m\u001b[0m\u001b[1;33m\u001b[0m\u001b[0m\n",
      "\u001b[1;31mValueError\u001b[0m: incompatible dimensions for cross product\n(dimension must be 2 or 3)"
     ]
    }
   ],
   "source": [
    "# Calculate the vector product of v1 and v2 using the numpy function.\n",
    "\n",
    "#<------------INSERT CODE HERE------------>\n",
    "print(np.cross(v1,v2))"
   ]
  },
  {
   "cell_type": "markdown",
   "metadata": {},
   "source": [
    "### Matrix multiplication\n",
    "\n",
    "This can be done on numpy using: np.matmul(a, b)"
   ]
  },
  {
   "cell_type": "code",
   "execution_count": 83,
   "metadata": {},
   "outputs": [
    {
     "ename": "AttributeError",
     "evalue": "module 'numpy' has no attribute 'matmaul'",
     "output_type": "error",
     "traceback": [
      "\u001b[1;31m---------------------------------------------------------------------------\u001b[0m",
      "\u001b[1;31mAttributeError\u001b[0m                            Traceback (most recent call last)",
      "\u001b[1;32m<ipython-input-83-b4fe0af2d30c>\u001b[0m in \u001b[0;36m<module>\u001b[1;34m()\u001b[0m\n\u001b[0;32m      3\u001b[0m \u001b[1;33m\u001b[0m\u001b[0m\n\u001b[0;32m      4\u001b[0m \u001b[1;31m#<------------INSERT CODE HERE------------>\u001b[0m\u001b[1;33m\u001b[0m\u001b[1;33m\u001b[0m\u001b[0m\n\u001b[1;32m----> 5\u001b[1;33m \u001b[0mprint\u001b[0m\u001b[1;33m(\u001b[0m\u001b[0mnp\u001b[0m\u001b[1;33m.\u001b[0m\u001b[0mmatmaul\u001b[0m\u001b[1;33m(\u001b[0m\u001b[0mmat1\u001b[0m\u001b[1;33m,\u001b[0m\u001b[0mmat2\u001b[0m\u001b[1;33m)\u001b[0m\u001b[1;33m)\u001b[0m\u001b[1;33m\u001b[0m\u001b[0m\n\u001b[0m\u001b[0;32m      6\u001b[0m \u001b[1;33m\u001b[0m\u001b[0m\n\u001b[0;32m      7\u001b[0m \u001b[1;31m# Is it the same result?\u001b[0m\u001b[1;33m\u001b[0m\u001b[1;33m\u001b[0m\u001b[0m\n",
      "\u001b[1;31mAttributeError\u001b[0m: module 'numpy' has no attribute 'matmaul'"
     ]
    }
   ],
   "source": [
    "# Check the result of multiplying mat1 and mat2 using the numpy function and the one you created in part 1.\n",
    "# Check the execution time for each of them. Which one is faster? \n",
    "\n",
    "#<------------INSERT CODE HERE------------>\n",
    "print(np.matmaul(mat1,mat2))\n",
    "\n",
    "# Is it the same result?\n",
    "\n",
    "#<------------INSERT CODE HERE------------>"
   ]
  },
  {
   "cell_type": "markdown",
   "metadata": {},
   "source": [
    "**Plotting a function**"
   ]
  },
  {
   "cell_type": "code",
   "execution_count": 84,
   "metadata": {},
   "outputs": [],
   "source": [
    "import matplotlib.pyplot as plt"
   ]
  },
  {
   "cell_type": "code",
   "execution_count": 96,
   "metadata": {},
   "outputs": [
    {
     "data": {
      "image/png": "[encoded data removed]",
      "text/plain": [
       "<Figure size 432x288 with 1 Axes>"
      ]
     },
     "metadata": {},
     "output_type": "display_data"
    }
   ],
   "source": [
    "plt.figure()\n",
    "t=np.arange(0,10)\n",
    "sin = np.sin(1/4*numpy.pi*t)\n",
    "plt.plot(t, sin)\n",
    "plt.xlabel(\"Time\")\n",
    "plt.ylabel(\"sin(1/4*pi*t)\")\n",
    "plt.title(\"Sinusoidal function\")\n",
    "plt.show()"
   ]
  },
  {
   "cell_type": "code",
   "execution_count": 97,
   "metadata": {},
   "outputs": [
    {
     "name": "stdout",
     "output_type": "stream",
     "text": [
      "1.0\n",
      "-1.0\n",
      "[1 4 5 8 9]\n",
      "[0 3 3 7 7]\n"
     ]
    }
   ],
   "source": [
    "print(np.max(sin))\n",
    "print(np.min(sin))\n",
    "\n",
    "## Elementwise minimum and maximum\n",
    "arr1 = np.array([1, 3, 5, 7, 9])\n",
    "arr2 = np.array([0, 4, 3, 8, 7])\n",
    "print(np.maximum(arr1, arr2))\n",
    "print(np.minimum(arr1, arr2))"
   ]
  },
  {
   "cell_type": "code",
   "execution_count": 98,
   "metadata": {
    "scrolled": true
   },
   "outputs": [
    {
     "name": "stdout",
     "output_type": "stream",
     "text": [
      "0.07829227942166539\n",
      "0.10684259354323687\n",
      "0.9531919749582785\n"
     ]
    }
   ],
   "source": [
    "# Statistical summaries \n",
    "\n",
    "print(np.mean(randn))\n",
    "print(np.median(randn))\n",
    "print(np.std(randn))\n",
    "\n"
   ]
  },
  {
   "cell_type": "markdown",
   "metadata": {},
   "source": [
    "Create a 5 (channels) x 100 (samples) matrix of random integers between 0 and 543 and retrieve the following information:\n",
    "    - the max, min, mean of all samples.\n",
    "    - the mean and variance of each channel\n"
   ]
  },
  {
   "cell_type": "code",
   "execution_count": 111,
   "metadata": {},
   "outputs": [
    {
     "name": "stdout",
     "output_type": "stream",
     "text": [
      "[[ 47 403 482 247 292 377 404  88 255 404 351 125 192  10 386 163 357 146\n",
      "  489 289 331 405 193 293 200 148 348  34 107  47 202 312 187 399 381 249\n",
      "  394 442 115 442 436 437 524  93 421 323 267 255 374 130 347 307 116  22\n",
      "  492 285 216 131 381 471  81 282  24 331 161 475 130 509 157  87 497 479\n",
      "  309 277 148 363  18  25 297 265 496 182 224 123  63 273 383 271 134 169\n",
      "   15 431  74 440 168 438  72 147 352  43]\n",
      " [ 23 520 223 287 284 203 358 398  84 306  64 446  33 393 543 433 386 238\n",
      "   76 416 224 388 281 124  58 398 286 401  41 148 390 484 354 174 542 322\n",
      "   55 226 502 476 123 294 266 103 340 239 399 266 488 146 209 192 485  23\n",
      "  488 284 186 112   9 231 380 169 190   3 168 502 532 428 489 303 184 511\n",
      "   62 146 396 353 476 358  43 437  22 227 488 309 142 220 164 343 484 541\n",
      "  327 270 266 463 455 221 147 492 461 151]\n",
      " [342 440  90 351  33 131 131 417 533  17 521 365 234 274 319 363 411 212\n",
      "  364 265 255 499   9   3 326 252 280 121 329 368 146   7 268 203 254 488\n",
      "  478 243   5 458  39 178  26 319 208 166 312 119 374 103 461  44 261 159\n",
      "  137 486 428 150 228 263  81  35 180 262 138 174 140 174  25 494 388 458\n",
      "  446  88 160  52 481 331 390 483 218  93 521 492 414 160 340 285 256 115\n",
      "  191  59 286 368 160 203  67 445 238 194]\n",
      " [215 143  37 504 520 238  70 422  85  45 537 321 467 463 165 375 385  12\n",
      "  132 219 104 369  96 212 169 274 271 468 329 388  14 335 524  45 461 229\n",
      "  307 322 363 213 214 132 244 527 424 379 388 310  62   5 479  96 181 365\n",
      "  141 461 466 120 251 511 160 476 168 489 501  89 420 372 279 212  40 321\n",
      "  209 157 265  82 206 279 251 397  80  18 317 460 526 222  52 483 531 103\n",
      "   50 502  95  20  39 410 104  71 367 136]\n",
      " [428 133 111 461 517 388 233  66  13 153 189 237 373 407 300 323 236  19\n",
      "  502  69 520 263 438 430 106 335 155 454 182 419 447 452 376 210  30 291\n",
      "   11 227 283 476 494 312 447 503 371 543 473 284 286 366 284 416 423 109\n",
      "  194 457 337 309 473 470 357 410 236  85 112 305 292 353 134 209 283 514\n",
      "  254 129 328 535 504 154  68 446 511 267 472 142 116  87 211  81 357 359\n",
      "  313 308 423 530 535 227 481 267 169 378]]\n",
      "min 543\n",
      "max 3\n",
      "mean 0 261.77\n",
      "mean 1 287.94\n",
      "mean 2 253.51\n",
      "mean 3 265.63\n",
      "mean 4 307.56\n",
      "275.5\n",
      "std 0 146.10727942166332\n",
      "std 1 155.03082403186795\n",
      "std 2 149.79435870552666\n",
      "std 3 162.04454048193045\n",
      "std 4 147.5889101524908\n"
     ]
    }
   ],
   "source": [
    "#<------------INSERT CODE HERE------------>\n",
    "\n",
    "random2 = np.random.randint(544, size=(5,100))\n",
    "print(random2)\n",
    "print(\"min\",np.max(random2))\n",
    "print(\"max\",np.min(random2))\n",
    "print(\"mean 0\",np.mean(random2[0]))\n",
    "print(\"mean 1\",np.mean(random2[1]))\n",
    "print(\"mean 2\",np.mean(random2[2]))\n",
    "print(\"mean 3\",np.mean(random2[3]))\n",
    "print(\"mean 4\",np.mean(random2[4]))\n",
    "print(np.median(random2))\n",
    "print(\"std 0\", np.std(random2[0]))\n",
    "print(\"std 1\", np.std(random2[1]))\n",
    "print(\"std 2\", np.std(random2[2]))\n",
    "print(\"std 3\", np.std(random2[3]))\n",
    "print(\"std 4\", np.std(random2[4]))\n"
   ]
  },
  {
   "cell_type": "markdown",
   "metadata": {},
   "source": [
    "Use the function hist() from matplotlib to show the histogram of values of the third channel."
   ]
  },
  {
   "cell_type": "code",
   "execution_count": 112,
   "metadata": {},
   "outputs": [
    {
     "data": {
      "image/png": "[encoded data removed]",
      "text/plain": [
       "<Figure size 432x288 with 1 Axes>"
      ]
     },
     "metadata": {},
     "output_type": "display_data"
    }
   ],
   "source": [
    "#<------------INSERT CODE HERE------------>\n",
    "plt.hist(random2[2])\n",
    "plt.xlabel(\"value\")\n",
    "plt.ylabel(\"frequence\")\n",
    "plt.title(\"channel 3\")\n",
    "plt.show()"
   ]
  }
 ],
 "metadata": {
  "kernelspec": {
   "display_name": "Python 3",
   "language": "python",
   "name": "python3"
  },
  "language_info": {
   "codemirror_mode": {
    "name": "ipython",
    "version": 3
   },
   "file_extension": ".py",
   "mimetype": "text/x-python",
   "name": "python",
   "nbconvert_exporter": "python",
   "pygments_lexer": "ipython3",
   "version": "3.6.5"
  }
 },
 "nbformat": 4,
 "nbformat_minor": 2
}
